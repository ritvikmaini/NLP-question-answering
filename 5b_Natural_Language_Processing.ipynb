{
 "cells": [
  {
   "cell_type": "code",
   "execution_count": 1,
   "metadata": {
    "collapsed": true,
    "ExecuteTime": {
     "start_time": "2023-06-02T15:50:53.123072Z",
     "end_time": "2023-06-02T15:50:53.128513Z"
    }
   },
   "outputs": [
    {
     "ename": "ModuleNotFoundError",
     "evalue": "No module named 'pandas'",
     "output_type": "error",
     "traceback": [
      "\u001B[0;31m---------------------------------------------------------------------------\u001B[0m",
      "\u001B[0;31mModuleNotFoundError\u001B[0m                       Traceback (most recent call last)",
      "Cell \u001B[0;32mIn[1], line 1\u001B[0m\n\u001B[0;32m----> 1\u001B[0m \u001B[38;5;28;01mimport\u001B[39;00m \u001B[38;5;21;01mpandas\u001B[39;00m \u001B[38;5;28;01mas\u001B[39;00m \u001B[38;5;21;01mpd\u001B[39;00m\n\u001B[1;32m      2\u001B[0m \u001B[38;5;28;01mimport\u001B[39;00m \u001B[38;5;21;01mspacy\u001B[39;00m\n\u001B[1;32m      3\u001B[0m \u001B[38;5;66;03m#import en_core_web_md\u001B[39;00m\n",
      "\u001B[0;31mModuleNotFoundError\u001B[0m: No module named 'pandas'"
     ]
    }
   ],
   "source": [
    "import pandas as pd\n",
    "import spacy\n",
    "#import en_core_web_md"
   ]
  },
  {
   "cell_type": "code",
   "execution_count": null,
   "outputs": [],
   "source": [
    "train_data = pd.read_csv('data/QA_train_data.csv')\n",
    "test_data = pd.read_csv('data/QA_test_data.csv')"
   ],
   "metadata": {
    "collapsed": false,
    "ExecuteTime": {
     "start_time": "2023-06-02T15:50:53.128710Z",
     "end_time": "2023-06-02T15:50:53.134692Z"
    }
   }
  },
  {
   "cell_type": "code",
   "execution_count": null,
   "outputs": [],
   "source": [
    "test_data.head(20)"
   ],
   "metadata": {
    "collapsed": false,
    "ExecuteTime": {
     "start_time": "2023-06-02T15:50:53.138506Z",
     "end_time": "2023-06-02T15:50:53.146514Z"
    }
   }
  },
  {
   "cell_type": "code",
   "execution_count": null,
   "outputs": [],
   "source": [
    "nlp = spacy.load(\"en_core_web_lg\")"
   ],
   "metadata": {
    "collapsed": false,
    "ExecuteTime": {
     "start_time": "2023-06-02T15:50:53.142909Z",
     "end_time": "2023-06-02T15:50:53.974074Z"
    }
   }
  },
  {
   "cell_type": "code",
   "execution_count": null,
   "outputs": [],
   "source": [
    "train_data = train_data.reset_index(drop=True)\n",
    "test_data = test_data.reset_index(drop=True)"
   ],
   "metadata": {
    "collapsed": false,
    "ExecuteTime": {
     "start_time": "2023-06-02T15:50:53.975181Z",
     "end_time": "2023-06-02T15:50:53.976863Z"
    }
   }
  },
  {
   "cell_type": "code",
   "execution_count": null,
   "outputs": [],
   "source": [
    "def preprocess_text(text):\n",
    "    # Lowercase the text\n",
    "    text = text.lower()\n",
    "    # Remove stopwords\n",
    "    text = \" \".join([token for token in text.split() if token not in nlp.Defaults.stop_words])\n",
    "    # Lemmatize the text\n",
    "    text = \" \".join([token.lemma_ for token in nlp(text)])\n",
    "    return text\n",
    "\n",
    "# Apply the preprocessing to the questions\n",
    "train_data['Question'] = train_data['Question'].apply(preprocess_text)\n",
    "test_data['Question'] = test_data['Question'].apply(preprocess_text)"
   ],
   "metadata": {
    "collapsed": false,
    "ExecuteTime": {
     "start_time": "2023-06-02T15:50:53.978675Z",
     "end_time": "2023-06-02T15:50:54.196911Z"
    }
   }
  },
  {
   "cell_type": "code",
   "execution_count": null,
   "outputs": [],
   "source": [
    "def predict_answer(question: str)-> str:\n",
    "    # Convert the question to a Spacy Doc object\n",
    "    question_doc = nlp(question)\n",
    "\n",
    "    # Convert the questions to Spacy Doc objects\n",
    "    faq_docs = list(nlp.pipe(train_data['Question']))\n",
    "\n",
    "    # Compute the similarity of the question to each Previous question\n",
    "    similarities = [question_doc.similarity(faq_doc) for faq_doc in faq_docs]\n",
    "\n",
    "    # Find the index of the most similar Previous question\n",
    "    max_index = similarities.index(max(similarities))\n",
    "\n",
    "    # If the similarity is above a certain threshold, return the corresponding Previous answer\n",
    "    if max(similarities) > 0.9:  # Increase the threshold\n",
    "        return train_data['Answer'].iloc[max_index]\n",
    "    else:\n",
    "        return \"No Answer.\""
   ],
   "metadata": {
    "collapsed": false,
    "ExecuteTime": {
     "start_time": "2023-06-02T15:50:54.198297Z",
     "end_time": "2023-06-02T15:50:54.200092Z"
    }
   }
  },
  {
   "cell_type": "code",
   "execution_count": null,
   "outputs": [],
   "source": [
    "predicted = test_data['Question'].apply(lambda q: predict_answer(q))\n",
    "actual = test_data['Answer']"
   ],
   "metadata": {
    "collapsed": false,
    "ExecuteTime": {
     "start_time": "2023-06-02T15:50:54.200800Z",
     "end_time": "2023-06-02T15:50:55.238056Z"
    }
   }
  },
  {
   "cell_type": "code",
   "execution_count": null,
   "outputs": [],
   "source": [
    "def evaluate_result(predicted: str, actual: str) -> int:\n",
    "    if predicted is None:\n",
    "        return 0\n",
    "    elif predicted == actual:\n",
    "        return 1\n",
    "    else:return -1\n",
    "\n",
    "def evaluate_All_results(predicted: pd.Series, actual: pd.Series) -> float:\n",
    "    total = 0\n",
    "    for index, value in predicted.items():\n",
    "        eval = evaluate_result(value, actual[index])\n",
    "        total += eval\n",
    "    result = total / predicted.size\n",
    "    return result"
   ],
   "metadata": {
    "collapsed": false,
    "ExecuteTime": {
     "start_time": "2023-06-02T15:50:55.239419Z",
     "end_time": "2023-06-02T15:50:55.241964Z"
    }
   }
  },
  {
   "cell_type": "code",
   "execution_count": null,
   "outputs": [],
   "source": [
    "score = evaluate_All_results(predicted, actual)"
   ],
   "metadata": {
    "collapsed": false,
    "ExecuteTime": {
     "start_time": "2023-06-02T15:50:55.242327Z",
     "end_time": "2023-06-02T15:50:55.244040Z"
    }
   }
  },
  {
   "cell_type": "code",
   "execution_count": null,
   "outputs": [],
   "source": [
    "print(score)"
   ],
   "metadata": {
    "collapsed": false,
    "ExecuteTime": {
     "start_time": "2023-06-02T15:50:55.244693Z",
     "end_time": "2023-06-02T15:50:55.246419Z"
    }
   }
  },
  {
   "cell_type": "code",
   "execution_count": null,
   "outputs": [],
   "source": [],
   "metadata": {
    "collapsed": false,
    "ExecuteTime": {
     "start_time": "2023-06-02T15:50:55.246887Z",
     "end_time": "2023-06-02T15:50:55.250003Z"
    }
   }
  },
  {
   "cell_type": "code",
   "execution_count": null,
   "outputs": [],
   "source": [],
   "metadata": {
    "collapsed": false,
    "ExecuteTime": {
     "start_time": "2023-06-02T15:50:55.248505Z",
     "end_time": "2023-06-02T15:50:55.250787Z"
    }
   }
  }
 ],
 "metadata": {
  "kernelspec": {
   "display_name": "Python 3",
   "language": "python",
   "name": "python3"
  },
  "language_info": {
   "codemirror_mode": {
    "name": "ipython",
    "version": 2
   },
   "file_extension": ".py",
   "mimetype": "text/x-python",
   "name": "python",
   "nbconvert_exporter": "python",
   "pygments_lexer": "ipython2",
   "version": "2.7.6"
  }
 },
 "nbformat": 4,
 "nbformat_minor": 0
}
